{
 "cells": [
  {
   "attachments": {},
   "cell_type": "markdown",
   "metadata": {},
   "source": [
    "\n"
   ]
  },
  {
   "cell_type": "markdown",
   "metadata": {},
   "source": [
    "**IMPORTING LIBRARIES**"
   ]
  },
  {
   "cell_type": "code",
   "execution_count": 1,
   "metadata": {
    "tags": []
   },
   "outputs": [],
   "source": [
    "import pandas as pd\n",
    "import sklearn\n",
    "import itertools\n",
    "import numpy as np\n",
    "import seaborn as sb\n",
    "import re\n",
    "import nltk\n",
    "import pickle\n",
    "from sklearn.model_selection import train_test_split\n",
    "from sklearn.feature_extraction.text import TfidfVectorizer\n",
    "from sklearn import metrics\n",
    "from sklearn.metrics import confusion_matrix\n",
    "from sklearn.metrics import classification_report\n",
    "from matplotlib import pyplot as plt\n",
    "from sklearn.linear_model import PassiveAggressiveClassifier\n",
    "from nltk.stem import WordNetLemmatizer\n",
    "from nltk.corpus import stopwords"
   ]
  },
  {
   "cell_type": "markdown",
   "metadata": {
    "tags": []
   },
   "source": [
    "**DATA PREPERATION**"
   ]
  },
  {
   "cell_type": "code",
   "execution_count": 2,
   "metadata": {
    "tags": []
   },
   "outputs": [],
   "source": [
    "#data collection\n",
    "#loading dataset into pandas dataframe\n",
    "train_df = pd.read_csv(r'/miniproject/dataset/train.csv')"
   ]
  },
  {
   "cell_type": "code",
   "execution_count": 3,
   "metadata": {
    "tags": []
   },
   "outputs": [
    {
     "data": {
      "text/html": [
       "<div>\n",
       "<style scoped>\n",
       "    .dataframe tbody tr th:only-of-type {\n",
       "        vertical-align: middle;\n",
       "    }\n",
       "\n",
       "    .dataframe tbody tr th {\n",
       "        vertical-align: top;\n",
       "    }\n",
       "\n",
       "    .dataframe thead th {\n",
       "        text-align: right;\n",
       "    }\n",
       "</style>\n",
       "<table border=\"1\" class=\"dataframe\">\n",
       "  <thead>\n",
       "    <tr style=\"text-align: right;\">\n",
       "      <th></th>\n",
       "      <th>id</th>\n",
       "      <th>title</th>\n",
       "      <th>author</th>\n",
       "      <th>text</th>\n",
       "      <th>label</th>\n",
       "    </tr>\n",
       "  </thead>\n",
       "  <tbody>\n",
       "    <tr>\n",
       "      <th>0</th>\n",
       "      <td>0</td>\n",
       "      <td>House Dem Aide: We Didn’t Even See Comey’s Let...</td>\n",
       "      <td>Darrell Lucus</td>\n",
       "      <td>House Dem Aide: We Didn’t Even See Comey’s Let...</td>\n",
       "      <td>1</td>\n",
       "    </tr>\n",
       "    <tr>\n",
       "      <th>1</th>\n",
       "      <td>1</td>\n",
       "      <td>FLYNN: Hillary Clinton, Big Woman on Campus - ...</td>\n",
       "      <td>Daniel J. Flynn</td>\n",
       "      <td>Ever get the feeling your life circles the rou...</td>\n",
       "      <td>0</td>\n",
       "    </tr>\n",
       "    <tr>\n",
       "      <th>2</th>\n",
       "      <td>2</td>\n",
       "      <td>Why the Truth Might Get You Fired</td>\n",
       "      <td>Consortiumnews.com</td>\n",
       "      <td>Why the Truth Might Get You Fired October 29, ...</td>\n",
       "      <td>1</td>\n",
       "    </tr>\n",
       "    <tr>\n",
       "      <th>3</th>\n",
       "      <td>3</td>\n",
       "      <td>15 Civilians Killed In Single US Airstrike Hav...</td>\n",
       "      <td>Jessica Purkiss</td>\n",
       "      <td>Videos 15 Civilians Killed In Single US Airstr...</td>\n",
       "      <td>1</td>\n",
       "    </tr>\n",
       "    <tr>\n",
       "      <th>4</th>\n",
       "      <td>4</td>\n",
       "      <td>Iranian woman jailed for fictional unpublished...</td>\n",
       "      <td>Howard Portnoy</td>\n",
       "      <td>Print \\nAn Iranian woman has been sentenced to...</td>\n",
       "      <td>1</td>\n",
       "    </tr>\n",
       "    <tr>\n",
       "      <th>5</th>\n",
       "      <td>5</td>\n",
       "      <td>Jackie Mason: Hollywood Would Love Trump if He...</td>\n",
       "      <td>Daniel Nussbaum</td>\n",
       "      <td>In these trying times, Jackie Mason is the Voi...</td>\n",
       "      <td>0</td>\n",
       "    </tr>\n",
       "    <tr>\n",
       "      <th>6</th>\n",
       "      <td>6</td>\n",
       "      <td>Life: Life Of Luxury: Elton John’s 6 Favorite ...</td>\n",
       "      <td>NaN</td>\n",
       "      <td>Ever wonder how Britain’s most iconic pop pian...</td>\n",
       "      <td>1</td>\n",
       "    </tr>\n",
       "    <tr>\n",
       "      <th>7</th>\n",
       "      <td>7</td>\n",
       "      <td>Benoît Hamon Wins French Socialist Party’s Pre...</td>\n",
       "      <td>Alissa J. Rubin</td>\n",
       "      <td>PARIS  —   France chose an idealistic, traditi...</td>\n",
       "      <td>0</td>\n",
       "    </tr>\n",
       "    <tr>\n",
       "      <th>8</th>\n",
       "      <td>8</td>\n",
       "      <td>Excerpts From a Draft Script for Donald Trump’...</td>\n",
       "      <td>NaN</td>\n",
       "      <td>Donald J. Trump is scheduled to make a highly ...</td>\n",
       "      <td>0</td>\n",
       "    </tr>\n",
       "    <tr>\n",
       "      <th>9</th>\n",
       "      <td>9</td>\n",
       "      <td>A Back-Channel Plan for Ukraine and Russia, Co...</td>\n",
       "      <td>Megan Twohey and Scott Shane</td>\n",
       "      <td>A week before Michael T. Flynn resigned as nat...</td>\n",
       "      <td>0</td>\n",
       "    </tr>\n",
       "    <tr>\n",
       "      <th>10</th>\n",
       "      <td>10</td>\n",
       "      <td>Obama’s Organizing for Action Partners with So...</td>\n",
       "      <td>Aaron Klein</td>\n",
       "      <td>Organizing for Action, the activist group that...</td>\n",
       "      <td>0</td>\n",
       "    </tr>\n",
       "    <tr>\n",
       "      <th>11</th>\n",
       "      <td>11</td>\n",
       "      <td>BBC Comedy Sketch \"Real Housewives of ISIS\" Ca...</td>\n",
       "      <td>Chris Tomlinson</td>\n",
       "      <td>The BBC produced spoof on the “Real Housewives...</td>\n",
       "      <td>0</td>\n",
       "    </tr>\n",
       "    <tr>\n",
       "      <th>12</th>\n",
       "      <td>12</td>\n",
       "      <td>Russian Researchers Discover Secret Nazi Milit...</td>\n",
       "      <td>Amando Flavio</td>\n",
       "      <td>The mystery surrounding The Third Reich and Na...</td>\n",
       "      <td>1</td>\n",
       "    </tr>\n",
       "    <tr>\n",
       "      <th>13</th>\n",
       "      <td>13</td>\n",
       "      <td>US Officials See No Link Between Trump and Russia</td>\n",
       "      <td>Jason Ditz</td>\n",
       "      <td>Clinton Campaign Demands FBI Affirm Trump's Ru...</td>\n",
       "      <td>1</td>\n",
       "    </tr>\n",
       "    <tr>\n",
       "      <th>14</th>\n",
       "      <td>14</td>\n",
       "      <td>Re: Yes, There Are Paid Government Trolls On S...</td>\n",
       "      <td>AnotherAnnie</td>\n",
       "      <td>Yes, There Are Paid Government Trolls On Socia...</td>\n",
       "      <td>1</td>\n",
       "    </tr>\n",
       "  </tbody>\n",
       "</table>\n",
       "</div>"
      ],
      "text/plain": [
       "    id                                              title  \\\n",
       "0    0  House Dem Aide: We Didn’t Even See Comey’s Let...   \n",
       "1    1  FLYNN: Hillary Clinton, Big Woman on Campus - ...   \n",
       "2    2                  Why the Truth Might Get You Fired   \n",
       "3    3  15 Civilians Killed In Single US Airstrike Hav...   \n",
       "4    4  Iranian woman jailed for fictional unpublished...   \n",
       "5    5  Jackie Mason: Hollywood Would Love Trump if He...   \n",
       "6    6  Life: Life Of Luxury: Elton John’s 6 Favorite ...   \n",
       "7    7  Benoît Hamon Wins French Socialist Party’s Pre...   \n",
       "8    8  Excerpts From a Draft Script for Donald Trump’...   \n",
       "9    9  A Back-Channel Plan for Ukraine and Russia, Co...   \n",
       "10  10  Obama’s Organizing for Action Partners with So...   \n",
       "11  11  BBC Comedy Sketch \"Real Housewives of ISIS\" Ca...   \n",
       "12  12  Russian Researchers Discover Secret Nazi Milit...   \n",
       "13  13  US Officials See No Link Between Trump and Russia   \n",
       "14  14  Re: Yes, There Are Paid Government Trolls On S...   \n",
       "\n",
       "                          author  \\\n",
       "0                  Darrell Lucus   \n",
       "1                Daniel J. Flynn   \n",
       "2             Consortiumnews.com   \n",
       "3                Jessica Purkiss   \n",
       "4                 Howard Portnoy   \n",
       "5                Daniel Nussbaum   \n",
       "6                            NaN   \n",
       "7                Alissa J. Rubin   \n",
       "8                            NaN   \n",
       "9   Megan Twohey and Scott Shane   \n",
       "10                   Aaron Klein   \n",
       "11               Chris Tomlinson   \n",
       "12                 Amando Flavio   \n",
       "13                    Jason Ditz   \n",
       "14                  AnotherAnnie   \n",
       "\n",
       "                                                 text  label  \n",
       "0   House Dem Aide: We Didn’t Even See Comey’s Let...      1  \n",
       "1   Ever get the feeling your life circles the rou...      0  \n",
       "2   Why the Truth Might Get You Fired October 29, ...      1  \n",
       "3   Videos 15 Civilians Killed In Single US Airstr...      1  \n",
       "4   Print \\nAn Iranian woman has been sentenced to...      1  \n",
       "5   In these trying times, Jackie Mason is the Voi...      0  \n",
       "6   Ever wonder how Britain’s most iconic pop pian...      1  \n",
       "7   PARIS  —   France chose an idealistic, traditi...      0  \n",
       "8   Donald J. Trump is scheduled to make a highly ...      0  \n",
       "9   A week before Michael T. Flynn resigned as nat...      0  \n",
       "10  Organizing for Action, the activist group that...      0  \n",
       "11  The BBC produced spoof on the “Real Housewives...      0  \n",
       "12  The mystery surrounding The Third Reich and Na...      1  \n",
       "13  Clinton Campaign Demands FBI Affirm Trump's Ru...      1  \n",
       "14  Yes, There Are Paid Government Trolls On Socia...      1  "
      ]
     },
     "execution_count": 3,
     "metadata": {},
     "output_type": "execute_result"
    }
   ],
   "source": [
    "train_df.head(15)"
   ]
  },
  {
   "cell_type": "code",
   "execution_count": 4,
   "metadata": {
    "tags": []
   },
   "outputs": [],
   "source": [
    "#deleting unwanted columns\n",
    "train_df = train_df.drop(\"author\", axis = 1)\n",
    "train_df = train_df.drop(\"title\", axis = 1)\n",
    "train_df = train_df.drop(\"id\", axis = 1)"
   ]
  },
  {
   "cell_type": "code",
   "execution_count": 5,
   "metadata": {
    "tags": []
   },
   "outputs": [
    {
     "data": {
      "text/plain": [
       "(20800, 2)"
      ]
     },
     "execution_count": 5,
     "metadata": {},
     "output_type": "execute_result"
    }
   ],
   "source": [
    "train_df.shape"
   ]
  },
  {
   "cell_type": "code",
   "execution_count": 6,
   "metadata": {
    "tags": []
   },
   "outputs": [
    {
     "data": {
      "text/html": [
       "<div>\n",
       "<style scoped>\n",
       "    .dataframe tbody tr th:only-of-type {\n",
       "        vertical-align: middle;\n",
       "    }\n",
       "\n",
       "    .dataframe tbody tr th {\n",
       "        vertical-align: top;\n",
       "    }\n",
       "\n",
       "    .dataframe thead th {\n",
       "        text-align: right;\n",
       "    }\n",
       "</style>\n",
       "<table border=\"1\" class=\"dataframe\">\n",
       "  <thead>\n",
       "    <tr style=\"text-align: right;\">\n",
       "      <th></th>\n",
       "      <th>text</th>\n",
       "      <th>label</th>\n",
       "    </tr>\n",
       "  </thead>\n",
       "  <tbody>\n",
       "    <tr>\n",
       "      <th>0</th>\n",
       "      <td>House Dem Aide: We Didn’t Even See Comey’s Let...</td>\n",
       "      <td>1</td>\n",
       "    </tr>\n",
       "    <tr>\n",
       "      <th>1</th>\n",
       "      <td>Ever get the feeling your life circles the rou...</td>\n",
       "      <td>0</td>\n",
       "    </tr>\n",
       "    <tr>\n",
       "      <th>2</th>\n",
       "      <td>Why the Truth Might Get You Fired October 29, ...</td>\n",
       "      <td>1</td>\n",
       "    </tr>\n",
       "    <tr>\n",
       "      <th>3</th>\n",
       "      <td>Videos 15 Civilians Killed In Single US Airstr...</td>\n",
       "      <td>1</td>\n",
       "    </tr>\n",
       "    <tr>\n",
       "      <th>4</th>\n",
       "      <td>Print \\nAn Iranian woman has been sentenced to...</td>\n",
       "      <td>1</td>\n",
       "    </tr>\n",
       "    <tr>\n",
       "      <th>5</th>\n",
       "      <td>In these trying times, Jackie Mason is the Voi...</td>\n",
       "      <td>0</td>\n",
       "    </tr>\n",
       "    <tr>\n",
       "      <th>6</th>\n",
       "      <td>Ever wonder how Britain’s most iconic pop pian...</td>\n",
       "      <td>1</td>\n",
       "    </tr>\n",
       "    <tr>\n",
       "      <th>7</th>\n",
       "      <td>PARIS  —   France chose an idealistic, traditi...</td>\n",
       "      <td>0</td>\n",
       "    </tr>\n",
       "    <tr>\n",
       "      <th>8</th>\n",
       "      <td>Donald J. Trump is scheduled to make a highly ...</td>\n",
       "      <td>0</td>\n",
       "    </tr>\n",
       "    <tr>\n",
       "      <th>9</th>\n",
       "      <td>A week before Michael T. Flynn resigned as nat...</td>\n",
       "      <td>0</td>\n",
       "    </tr>\n",
       "    <tr>\n",
       "      <th>10</th>\n",
       "      <td>Organizing for Action, the activist group that...</td>\n",
       "      <td>0</td>\n",
       "    </tr>\n",
       "    <tr>\n",
       "      <th>11</th>\n",
       "      <td>The BBC produced spoof on the “Real Housewives...</td>\n",
       "      <td>0</td>\n",
       "    </tr>\n",
       "    <tr>\n",
       "      <th>12</th>\n",
       "      <td>The mystery surrounding The Third Reich and Na...</td>\n",
       "      <td>1</td>\n",
       "    </tr>\n",
       "    <tr>\n",
       "      <th>13</th>\n",
       "      <td>Clinton Campaign Demands FBI Affirm Trump's Ru...</td>\n",
       "      <td>1</td>\n",
       "    </tr>\n",
       "    <tr>\n",
       "      <th>14</th>\n",
       "      <td>Yes, There Are Paid Government Trolls On Socia...</td>\n",
       "      <td>1</td>\n",
       "    </tr>\n",
       "  </tbody>\n",
       "</table>\n",
       "</div>"
      ],
      "text/plain": [
       "                                                 text  label\n",
       "0   House Dem Aide: We Didn’t Even See Comey’s Let...      1\n",
       "1   Ever get the feeling your life circles the rou...      0\n",
       "2   Why the Truth Might Get You Fired October 29, ...      1\n",
       "3   Videos 15 Civilians Killed In Single US Airstr...      1\n",
       "4   Print \\nAn Iranian woman has been sentenced to...      1\n",
       "5   In these trying times, Jackie Mason is the Voi...      0\n",
       "6   Ever wonder how Britain’s most iconic pop pian...      1\n",
       "7   PARIS  —   France chose an idealistic, traditi...      0\n",
       "8   Donald J. Trump is scheduled to make a highly ...      0\n",
       "9   A week before Michael T. Flynn resigned as nat...      0\n",
       "10  Organizing for Action, the activist group that...      0\n",
       "11  The BBC produced spoof on the “Real Housewives...      0\n",
       "12  The mystery surrounding The Third Reich and Na...      1\n",
       "13  Clinton Campaign Demands FBI Affirm Trump's Ru...      1\n",
       "14  Yes, There Are Paid Government Trolls On Socia...      1"
      ]
     },
     "execution_count": 6,
     "metadata": {},
     "output_type": "execute_result"
    }
   ],
   "source": [
    "train_df.head(15)"
   ]
  },
  {
   "cell_type": "code",
   "execution_count": 7,
   "metadata": {
    "tags": []
   },
   "outputs": [
    {
     "data": {
      "text/plain": [
       "text     39\n",
       "label     0\n",
       "dtype: int64"
      ]
     },
     "execution_count": 7,
     "metadata": {},
     "output_type": "execute_result"
    }
   ],
   "source": [
    "train_df.isna().sum()"
   ]
  },
  {
   "cell_type": "code",
   "execution_count": 8,
   "metadata": {
    "tags": []
   },
   "outputs": [
    {
     "data": {
      "text/plain": [
       "<Axes: xlabel='label', ylabel='count'>"
      ]
     },
     "execution_count": 8,
     "metadata": {},
     "output_type": "execute_result"
    },
    {
     "data": {
      "image/png": "[encoded data removed]",
      "text/plain": [
       "<Figure size 640x480 with 1 Axes>"
      ]
     },
     "metadata": {},
     "output_type": "display_data"
    }
   ],
   "source": [
    "def create_distribution(dataFile):\n",
    "    return sb.countplot(x='label', data=dataFile, palette='hls')\n",
    "\n",
    "# by calling below we can see that training, test and valid data seems to be failry evenly distributed between the classes\n",
    "create_distribution(train_df)"
   ]
  },
  {
   "cell_type": "code",
   "execution_count": 9,
   "metadata": {
    "tags": []
   },
   "outputs": [
    {
     "name": "stdout",
     "output_type": "stream",
     "text": [
      "Checking data qualitites...\n",
      "<class 'pandas.core.frame.DataFrame'>\n",
      "RangeIndex: 20800 entries, 0 to 20799\n",
      "Data columns (total 2 columns):\n",
      " #   Column  Non-Null Count  Dtype \n",
      "---  ------  --------------  ----- \n",
      " 0   text    20761 non-null  object\n",
      " 1   label   20800 non-null  int64 \n",
      "dtypes: int64(1), object(1)\n",
      "memory usage: 325.1+ KB\n",
      "check finished.\n"
     ]
    }
   ],
   "source": [
    "def data_qualityCheck():\n",
    "    print(\"Checking data qualitites...\")\n",
    "    train_df.isnull().sum()\n",
    "    train_df.info()  \n",
    "    print(\"check finished.\")\n",
    "data_qualityCheck()"
   ]
  },
  {
   "cell_type": "code",
   "execution_count": 10,
   "metadata": {
    "tags": []
   },
   "outputs": [],
   "source": [
    "train_df = train_df.dropna()"
   ]
  },
  {
   "cell_type": "code",
   "execution_count": 11,
   "metadata": {
    "tags": []
   },
   "outputs": [
    {
     "name": "stdout",
     "output_type": "stream",
     "text": [
      "Checking data qualitites...\n",
      "<class 'pandas.core.frame.DataFrame'>\n",
      "Int64Index: 20761 entries, 0 to 20799\n",
      "Data columns (total 2 columns):\n",
      " #   Column  Non-Null Count  Dtype \n",
      "---  ------  --------------  ----- \n",
      " 0   text    20761 non-null  object\n",
      " 1   label   20761 non-null  int64 \n",
      "dtypes: int64(1), object(1)\n",
      "memory usage: 486.6+ KB\n",
      "check finished.\n"
     ]
    }
   ],
   "source": [
    "data_qualityCheck()"
   ]
  },
  {
   "cell_type": "code",
   "execution_count": 12,
   "metadata": {
    "tags": []
   },
   "outputs": [
    {
     "data": {
      "text/plain": [
       "(20761, 2)"
      ]
     },
     "execution_count": 12,
     "metadata": {},
     "output_type": "execute_result"
    }
   ],
   "source": [
    "train_df.shape"
   ]
  },
  {
   "cell_type": "code",
   "execution_count": 13,
   "metadata": {
    "tags": []
   },
   "outputs": [
    {
     "data": {
      "text/html": [
       "<div>\n",
       "<style scoped>\n",
       "    .dataframe tbody tr th:only-of-type {\n",
       "        vertical-align: middle;\n",
       "    }\n",
       "\n",
       "    .dataframe tbody tr th {\n",
       "        vertical-align: top;\n",
       "    }\n",
       "\n",
       "    .dataframe thead th {\n",
       "        text-align: right;\n",
       "    }\n",
       "</style>\n",
       "<table border=\"1\" class=\"dataframe\">\n",
       "  <thead>\n",
       "    <tr style=\"text-align: right;\">\n",
       "      <th></th>\n",
       "      <th>text</th>\n",
       "      <th>label</th>\n",
       "    </tr>\n",
       "  </thead>\n",
       "  <tbody>\n",
       "    <tr>\n",
       "      <th>0</th>\n",
       "      <td>House Dem Aide: We Didn’t Even See Comey’s Let...</td>\n",
       "      <td>1</td>\n",
       "    </tr>\n",
       "    <tr>\n",
       "      <th>1</th>\n",
       "      <td>Ever get the feeling your life circles the rou...</td>\n",
       "      <td>0</td>\n",
       "    </tr>\n",
       "    <tr>\n",
       "      <th>2</th>\n",
       "      <td>Why the Truth Might Get You Fired October 29, ...</td>\n",
       "      <td>1</td>\n",
       "    </tr>\n",
       "    <tr>\n",
       "      <th>3</th>\n",
       "      <td>Videos 15 Civilians Killed In Single US Airstr...</td>\n",
       "      <td>1</td>\n",
       "    </tr>\n",
       "    <tr>\n",
       "      <th>4</th>\n",
       "      <td>Print \\nAn Iranian woman has been sentenced to...</td>\n",
       "      <td>1</td>\n",
       "    </tr>\n",
       "    <tr>\n",
       "      <th>5</th>\n",
       "      <td>In these trying times, Jackie Mason is the Voi...</td>\n",
       "      <td>0</td>\n",
       "    </tr>\n",
       "    <tr>\n",
       "      <th>6</th>\n",
       "      <td>Ever wonder how Britain’s most iconic pop pian...</td>\n",
       "      <td>1</td>\n",
       "    </tr>\n",
       "    <tr>\n",
       "      <th>7</th>\n",
       "      <td>PARIS  —   France chose an idealistic, traditi...</td>\n",
       "      <td>0</td>\n",
       "    </tr>\n",
       "    <tr>\n",
       "      <th>8</th>\n",
       "      <td>Donald J. Trump is scheduled to make a highly ...</td>\n",
       "      <td>0</td>\n",
       "    </tr>\n",
       "    <tr>\n",
       "      <th>9</th>\n",
       "      <td>A week before Michael T. Flynn resigned as nat...</td>\n",
       "      <td>0</td>\n",
       "    </tr>\n",
       "  </tbody>\n",
       "</table>\n",
       "</div>"
      ],
      "text/plain": [
       "                                                text  label\n",
       "0  House Dem Aide: We Didn’t Even See Comey’s Let...      1\n",
       "1  Ever get the feeling your life circles the rou...      0\n",
       "2  Why the Truth Might Get You Fired October 29, ...      1\n",
       "3  Videos 15 Civilians Killed In Single US Airstr...      1\n",
       "4  Print \\nAn Iranian woman has been sentenced to...      1\n",
       "5  In these trying times, Jackie Mason is the Voi...      0\n",
       "6  Ever wonder how Britain’s most iconic pop pian...      1\n",
       "7  PARIS  —   France chose an idealistic, traditi...      0\n",
       "8  Donald J. Trump is scheduled to make a highly ...      0\n",
       "9  A week before Michael T. Flynn resigned as nat...      0"
      ]
     },
     "execution_count": 13,
     "metadata": {},
     "output_type": "execute_result"
    }
   ],
   "source": [
    "train_df.head(10)"
   ]
  },
  {
   "cell_type": "code",
   "execution_count": 14,
   "metadata": {
    "tags": []
   },
   "outputs": [],
   "source": [
    "train_df.reset_index(drop= True,inplace=True)"
   ]
  },
  {
   "cell_type": "code",
   "execution_count": 15,
   "metadata": {
    "tags": []
   },
   "outputs": [
    {
     "data": {
      "text/html": [
       "<div>\n",
       "<style scoped>\n",
       "    .dataframe tbody tr th:only-of-type {\n",
       "        vertical-align: middle;\n",
       "    }\n",
       "\n",
       "    .dataframe tbody tr th {\n",
       "        vertical-align: top;\n",
       "    }\n",
       "\n",
       "    .dataframe thead th {\n",
       "        text-align: right;\n",
       "    }\n",
       "</style>\n",
       "<table border=\"1\" class=\"dataframe\">\n",
       "  <thead>\n",
       "    <tr style=\"text-align: right;\">\n",
       "      <th></th>\n",
       "      <th>text</th>\n",
       "      <th>label</th>\n",
       "    </tr>\n",
       "  </thead>\n",
       "  <tbody>\n",
       "    <tr>\n",
       "      <th>0</th>\n",
       "      <td>House Dem Aide: We Didn’t Even See Comey’s Let...</td>\n",
       "      <td>1</td>\n",
       "    </tr>\n",
       "    <tr>\n",
       "      <th>1</th>\n",
       "      <td>Ever get the feeling your life circles the rou...</td>\n",
       "      <td>0</td>\n",
       "    </tr>\n",
       "    <tr>\n",
       "      <th>2</th>\n",
       "      <td>Why the Truth Might Get You Fired October 29, ...</td>\n",
       "      <td>1</td>\n",
       "    </tr>\n",
       "    <tr>\n",
       "      <th>3</th>\n",
       "      <td>Videos 15 Civilians Killed In Single US Airstr...</td>\n",
       "      <td>1</td>\n",
       "    </tr>\n",
       "    <tr>\n",
       "      <th>4</th>\n",
       "      <td>Print \\nAn Iranian woman has been sentenced to...</td>\n",
       "      <td>1</td>\n",
       "    </tr>\n",
       "    <tr>\n",
       "      <th>5</th>\n",
       "      <td>In these trying times, Jackie Mason is the Voi...</td>\n",
       "      <td>0</td>\n",
       "    </tr>\n",
       "    <tr>\n",
       "      <th>6</th>\n",
       "      <td>Ever wonder how Britain’s most iconic pop pian...</td>\n",
       "      <td>1</td>\n",
       "    </tr>\n",
       "    <tr>\n",
       "      <th>7</th>\n",
       "      <td>PARIS  —   France chose an idealistic, traditi...</td>\n",
       "      <td>0</td>\n",
       "    </tr>\n",
       "    <tr>\n",
       "      <th>8</th>\n",
       "      <td>Donald J. Trump is scheduled to make a highly ...</td>\n",
       "      <td>0</td>\n",
       "    </tr>\n",
       "    <tr>\n",
       "      <th>9</th>\n",
       "      <td>A week before Michael T. Flynn resigned as nat...</td>\n",
       "      <td>0</td>\n",
       "    </tr>\n",
       "  </tbody>\n",
       "</table>\n",
       "</div>"
      ],
      "text/plain": [
       "                                                text  label\n",
       "0  House Dem Aide: We Didn’t Even See Comey’s Let...      1\n",
       "1  Ever get the feeling your life circles the rou...      0\n",
       "2  Why the Truth Might Get You Fired October 29, ...      1\n",
       "3  Videos 15 Civilians Killed In Single US Airstr...      1\n",
       "4  Print \\nAn Iranian woman has been sentenced to...      1\n",
       "5  In these trying times, Jackie Mason is the Voi...      0\n",
       "6  Ever wonder how Britain’s most iconic pop pian...      1\n",
       "7  PARIS  —   France chose an idealistic, traditi...      0\n",
       "8  Donald J. Trump is scheduled to make a highly ...      0\n",
       "9  A week before Michael T. Flynn resigned as nat...      0"
      ]
     },
     "execution_count": 15,
     "metadata": {},
     "output_type": "execute_result"
    }
   ],
   "source": [
    "train_df.head(10)"
   ]
  },
  {
   "cell_type": "code",
   "execution_count": 16,
   "metadata": {
    "tags": []
   },
   "outputs": [],
   "source": [
    "label_train = train_df.label"
   ]
  },
  {
   "cell_type": "code",
   "execution_count": 17,
   "metadata": {
    "tags": []
   },
   "outputs": [
    {
     "data": {
      "text/plain": [
       "0    1\n",
       "1    0\n",
       "2    1\n",
       "3    1\n",
       "4    1\n",
       "5    0\n",
       "6    1\n",
       "7    0\n",
       "8    0\n",
       "9    0\n",
       "Name: label, dtype: int64"
      ]
     },
     "execution_count": 17,
     "metadata": {},
     "output_type": "execute_result"
    }
   ],
   "source": [
    "label_train.head(10)"
   ]
  },
  {
   "cell_type": "code",
   "execution_count": 18,
   "metadata": {
    "tags": []
   },
   "outputs": [],
   "source": [
    "train_df = train_df.drop(\"label\", axis = 1)"
   ]
  },
  {
   "cell_type": "code",
   "execution_count": 19,
   "metadata": {
    "tags": []
   },
   "outputs": [
    {
     "data": {
      "text/html": [
       "<div>\n",
       "<style scoped>\n",
       "    .dataframe tbody tr th:only-of-type {\n",
       "        vertical-align: middle;\n",
       "    }\n",
       "\n",
       "    .dataframe tbody tr th {\n",
       "        vertical-align: top;\n",
       "    }\n",
       "\n",
       "    .dataframe thead th {\n",
       "        text-align: right;\n",
       "    }\n",
       "</style>\n",
       "<table border=\"1\" class=\"dataframe\">\n",
       "  <thead>\n",
       "    <tr style=\"text-align: right;\">\n",
       "      <th></th>\n",
       "      <th>text</th>\n",
       "    </tr>\n",
       "  </thead>\n",
       "  <tbody>\n",
       "    <tr>\n",
       "      <th>0</th>\n",
       "      <td>House Dem Aide: We Didn’t Even See Comey’s Let...</td>\n",
       "    </tr>\n",
       "    <tr>\n",
       "      <th>1</th>\n",
       "      <td>Ever get the feeling your life circles the rou...</td>\n",
       "    </tr>\n",
       "    <tr>\n",
       "      <th>2</th>\n",
       "      <td>Why the Truth Might Get You Fired October 29, ...</td>\n",
       "    </tr>\n",
       "    <tr>\n",
       "      <th>3</th>\n",
       "      <td>Videos 15 Civilians Killed In Single US Airstr...</td>\n",
       "    </tr>\n",
       "    <tr>\n",
       "      <th>4</th>\n",
       "      <td>Print \\nAn Iranian woman has been sentenced to...</td>\n",
       "    </tr>\n",
       "    <tr>\n",
       "      <th>5</th>\n",
       "      <td>In these trying times, Jackie Mason is the Voi...</td>\n",
       "    </tr>\n",
       "    <tr>\n",
       "      <th>6</th>\n",
       "      <td>Ever wonder how Britain’s most iconic pop pian...</td>\n",
       "    </tr>\n",
       "    <tr>\n",
       "      <th>7</th>\n",
       "      <td>PARIS  —   France chose an idealistic, traditi...</td>\n",
       "    </tr>\n",
       "    <tr>\n",
       "      <th>8</th>\n",
       "      <td>Donald J. Trump is scheduled to make a highly ...</td>\n",
       "    </tr>\n",
       "    <tr>\n",
       "      <th>9</th>\n",
       "      <td>A week before Michael T. Flynn resigned as nat...</td>\n",
       "    </tr>\n",
       "  </tbody>\n",
       "</table>\n",
       "</div>"
      ],
      "text/plain": [
       "                                                text\n",
       "0  House Dem Aide: We Didn’t Even See Comey’s Let...\n",
       "1  Ever get the feeling your life circles the rou...\n",
       "2  Why the Truth Might Get You Fired October 29, ...\n",
       "3  Videos 15 Civilians Killed In Single US Airstr...\n",
       "4  Print \\nAn Iranian woman has been sentenced to...\n",
       "5  In these trying times, Jackie Mason is the Voi...\n",
       "6  Ever wonder how Britain’s most iconic pop pian...\n",
       "7  PARIS  —   France chose an idealistic, traditi...\n",
       "8  Donald J. Trump is scheduled to make a highly ...\n",
       "9  A week before Michael T. Flynn resigned as nat..."
      ]
     },
     "execution_count": 19,
     "metadata": {},
     "output_type": "execute_result"
    }
   ],
   "source": [
    "train_df.head(10)"
   ]
  },
  {
   "cell_type": "code",
   "execution_count": 20,
   "metadata": {
    "tags": []
   },
   "outputs": [
    {
     "data": {
      "text/plain": [
       "'\\nThis article was written by John Vibes and originally published at Activist Post.com . \\nEditor’s Comment: On the surface, there are good intentions here. The Bushes, like other patriotic establishment figures, always honor the troops, and count the sacrifices. Typically, they are stoic and praiseworthy of everything the military does. But underneath the surface, one has to wonder what is really going on inside the disturbed mind of George W. Bush – whose orders for an illegal war in Iraq, and a broader War on Terror in Afghanistan and elsewhere resulted in the deaths of thousands of U.S. troops, tens of thousands of wounded or injured and potentially more than a million civilians dead. \\nDoes he feel remorse? Guilt? Has he admitted to his personal responsibility for what happened to their lives? Or do his paintings reveal a morbid sense of power over the lives of men and women whom he can only reflect upon and humanize after the fact? Considering that the Iraq war was based upon a provable lie – or false intelligence if you prefer to lie to yourself – something seems very off about honoring victims who wouldn’t have been harmed if Bush himself hadn’t authorized the actions that took place under his watch. \\nGeorge W. Bush Paints Portraits Of The Veterans Who Were “Injured Carrying Out My Orders” \\nby John Vibes\\nThis Veterans Day, former president George W. Bush revealed one of his favorite hobbies and talents, painting portraits. However, there was an extremely disturbing twist.\\nThis week, Bush posted a photo to his official Instagram account, showing himself in an art room painting portraits of the veterans who were injured carrying out his orders. He was even brazen enough to describe the situation in those exact words.\\nIn the caption below the photo, Bush said,\\nOver the past several months, I’ve painted the portraits of 98 wounded warriors I’ve gotten to know – remarkable men and women who were injured carrying out my orders. I think about them on #VeteransDay and every day. Their paintings and stories will be featured in PORTRAITS OF COURAGE – a book and special exhibit – next spring, and I am donating all my proceeds to @thebushcenter and our Military Service Initiative’s work to honor and support them. Click link in bio for more info.\\nIs this a slap in the face to the veterans who Bush sent to be injured and die in senseless wars, or does he actually have remorse for the part he played in the conflicts?\\nThe portraits will also be featured in a book that will be released by the former president and will tell the stories of the veterans depicted in the paintings.\\nFor some reason, despite the fact that Bush said he painted 98 veterans, the official “portraits of courage” series consists of a total of 66 images, according to the website. \\n66 is a bit of a strange number for them to select, don’t you think?\\nThe paintings in the book will be the subject of a special exhibit at the George W. Bush Presidential Center in Dallas on the campus of SMU that will be open to the public from March 2, 2017 through October 1, 2017.\\nThis article was written by John Vibes and originally published at Activist Post.com . \\nJohn Vibes is an author and researcher who organizes a number of large events including the Free Your Mind Conference . He also has a publishing company where he offers a censorship free platform for both fiction and non-fiction writers. You can contact him and stay connected to his work at his Facebook page. John is currently battling cancer naturally , without any chemo or radiation, and will be working to help others through his experience, if you wish to contribute to his treatments please donate. '"
      ]
     },
     "execution_count": 20,
     "metadata": {},
     "output_type": "execute_result"
    }
   ],
   "source": [
    "train_df['text'][2188]"
   ]
  },
  {
   "cell_type": "markdown",
   "metadata": {},
   "source": [
    "**PRE PROCESSING OF DATA**"
   ]
  },
  {
   "cell_type": "code",
   "execution_count": 21,
   "metadata": {
    "tags": []
   },
   "outputs": [],
   "source": [
    "lemmatizer = WordNetLemmatizer()\n",
    "stpwrds = list(stopwords.words('english'))"
   ]
  },
  {
   "cell_type": "code",
   "execution_count": 22,
   "metadata": {
    "tags": []
   },
   "outputs": [
    {
     "data": {
      "text/plain": [
       "['i',\n",
       " 'me',\n",
       " 'my',\n",
       " 'myself',\n",
       " 'we',\n",
       " 'our',\n",
       " 'ours',\n",
       " 'ourselves',\n",
       " 'you',\n",
       " \"you're\",\n",
       " \"you've\",\n",
       " \"you'll\",\n",
       " \"you'd\",\n",
       " 'your',\n",
       " 'yours',\n",
       " 'yourself',\n",
       " 'yourselves',\n",
       " 'he',\n",
       " 'him',\n",
       " 'his',\n",
       " 'himself',\n",
       " 'she',\n",
       " \"she's\",\n",
       " 'her',\n",
       " 'hers',\n",
       " 'herself',\n",
       " 'it',\n",
       " \"it's\",\n",
       " 'its',\n",
       " 'itself',\n",
       " 'they',\n",
       " 'them',\n",
       " 'their',\n",
       " 'theirs',\n",
       " 'themselves',\n",
       " 'what',\n",
       " 'which',\n",
       " 'who',\n",
       " 'whom',\n",
       " 'this',\n",
       " 'that',\n",
       " \"that'll\",\n",
       " 'these',\n",
       " 'those',\n",
       " 'am',\n",
       " 'is',\n",
       " 'are',\n",
       " 'was',\n",
       " 'were',\n",
       " 'be',\n",
       " 'been',\n",
       " 'being',\n",
       " 'have',\n",
       " 'has',\n",
       " 'had',\n",
       " 'having',\n",
       " 'do',\n",
       " 'does',\n",
       " 'did',\n",
       " 'doing',\n",
       " 'a',\n",
       " 'an',\n",
       " 'the',\n",
       " 'and',\n",
       " 'but',\n",
       " 'if',\n",
       " 'or',\n",
       " 'because',\n",
       " 'as',\n",
       " 'until',\n",
       " 'while',\n",
       " 'of',\n",
       " 'at',\n",
       " 'by',\n",
       " 'for',\n",
       " 'with',\n",
       " 'about',\n",
       " 'against',\n",
       " 'between',\n",
       " 'into',\n",
       " 'through',\n",
       " 'during',\n",
       " 'before',\n",
       " 'after',\n",
       " 'above',\n",
       " 'below',\n",
       " 'to',\n",
       " 'from',\n",
       " 'up',\n",
       " 'down',\n",
       " 'in',\n",
       " 'out',\n",
       " 'on',\n",
       " 'off',\n",
       " 'over',\n",
       " 'under',\n",
       " 'again',\n",
       " 'further',\n",
       " 'then',\n",
       " 'once',\n",
       " 'here',\n",
       " 'there',\n",
       " 'when',\n",
       " 'where',\n",
       " 'why',\n",
       " 'how',\n",
       " 'all',\n",
       " 'any',\n",
       " 'both',\n",
       " 'each',\n",
       " 'few',\n",
       " 'more',\n",
       " 'most',\n",
       " 'other',\n",
       " 'some',\n",
       " 'such',\n",
       " 'no',\n",
       " 'nor',\n",
       " 'not',\n",
       " 'only',\n",
       " 'own',\n",
       " 'same',\n",
       " 'so',\n",
       " 'than',\n",
       " 'too',\n",
       " 'very',\n",
       " 's',\n",
       " 't',\n",
       " 'can',\n",
       " 'will',\n",
       " 'just',\n",
       " 'don',\n",
       " \"don't\",\n",
       " 'should',\n",
       " \"should've\",\n",
       " 'now',\n",
       " 'd',\n",
       " 'll',\n",
       " 'm',\n",
       " 'o',\n",
       " 're',\n",
       " 've',\n",
       " 'y',\n",
       " 'ain',\n",
       " 'aren',\n",
       " \"aren't\",\n",
       " 'couldn',\n",
       " \"couldn't\",\n",
       " 'didn',\n",
       " \"didn't\",\n",
       " 'doesn',\n",
       " \"doesn't\",\n",
       " 'hadn',\n",
       " \"hadn't\",\n",
       " 'hasn',\n",
       " \"hasn't\",\n",
       " 'haven',\n",
       " \"haven't\",\n",
       " 'isn',\n",
       " \"isn't\",\n",
       " 'ma',\n",
       " 'mightn',\n",
       " \"mightn't\",\n",
       " 'mustn',\n",
       " \"mustn't\",\n",
       " 'needn',\n",
       " \"needn't\",\n",
       " 'shan',\n",
       " \"shan't\",\n",
       " 'shouldn',\n",
       " \"shouldn't\",\n",
       " 'wasn',\n",
       " \"wasn't\",\n",
       " 'weren',\n",
       " \"weren't\",\n",
       " 'won',\n",
       " \"won't\",\n",
       " 'wouldn',\n",
       " \"wouldn't\"]"
      ]
     },
     "execution_count": 22,
     "metadata": {},
     "output_type": "execute_result"
    }
   ],
   "source": [
    "stpwrds"
   ]
  },
  {
   "cell_type": "raw",
   "metadata": {},
   "source": []
  },
  {
   "cell_type": "markdown",
   "metadata": {},
   "source": [
    "**LEMMATIZATION**\n",
    "\n",
    "Lemmatization is the process of reducing words to their base or dictionary form, known as the \"lemma.\" \n",
    "In natural language processing (NLP), lemmatization is an important technique used to normalize text data by removing \t\t\t  inflections, conjugations, and other variations of a word to bring them to their root form.\n",
    "\n",
    "         example:the word \"cats\" can be lemmatized to \"cat\",\n",
    "\t\t \t    \"running\" to \"run\", \n",
    "\t\t \t    \"am\" to \"be\"\n",
    "\t\t \t    \"ate\" to \"eat\"\n",
    "Lemmatization is similar to stemming, but it produces more accurate results because it takes into account the context of the \t\t\tword in a sentence and uses more advanced linguistic analysis to identify the base form.\n",
    "Lemmatization can improve the accuracy of text analysis and machine learning models that rely on text data."
   ]
  },
  {
   "cell_type": "code",
   "execution_count": 23,
   "metadata": {
    "tags": []
   },
   "outputs": [],
   "source": [
    "#lemmatization\n",
    "for x in range(len(train_df)) :\n",
    "    corpus = []\n",
    "    review = train_df['text'][x]\n",
    "    review = re.sub(r'[^a-zA-Z\\s]', '', review)\n",
    "    review = review.lower()\n",
    "    review = nltk.word_tokenize(review)\n",
    "    for y in review :\n",
    "        if y not in stpwrds :\n",
    "            corpus.append(lemmatizer.lemmatize(y))\n",
    "    review = ' '.join(corpus)\n",
    "    train_df['text'][x] = review      "
   ]
  },
  {
   "cell_type": "code",
   "execution_count": 24,
   "metadata": {
    "scrolled": true,
    "tags": []
   },
   "outputs": [
    {
     "data": {
      "text/plain": [
       "'comment actor steven seagal stood america rest hollywood remains silent week rough country first democratic nominee hillary clinton collapsed memorial called million hardworking american deplorable werent enough nfl player throughout country blatantly disrespecting american flag needle say seagal enough think important job secretary state ensuring people dont get killed seagal tweeted cant email protected pneumonia going disastrous american people notohillary continued course seagal quickly became target liberal fire comment refused break particularly lost one twitter user tried argued hillary capable presidency capable capable leaving american die capable disregarding law capable disrespecting rape survivor argued went address race relation united state true role president barack obama played social evolution country obama abysmal race relation usa truth need start honest dialog wrote seagal concluded pointing irony attack receiving liberal everywhere best thing worldmaking one statement freedom getting attacked every demo hypocritical tweeted america without democrat white house safer america think seagals comment'"
      ]
     },
     "execution_count": 24,
     "metadata": {},
     "output_type": "execute_result"
    }
   ],
   "source": [
    "train_df['text'][2182]"
   ]
  },
  {
   "cell_type": "raw",
   "metadata": {},
   "source": []
  },
  {
   "cell_type": "markdown",
   "metadata": {},
   "source": [
    "**SPLITTING THE DATASET INTO TRAINING DATA & TEST DATA:**"
   ]
  },
  {
   "cell_type": "code",
   "execution_count": 25,
   "metadata": {
    "tags": []
   },
   "outputs": [],
   "source": [
    "#splitting the dataset to training and test dataset,80% data to be training data &20% will be testing data.(ie test_size=0.2)\n",
    "X_train, X_test, Y_train, Y_test = train_test_split(train_df['text'], label_train, test_size=0.2, random_state=0)"
   ]
  },
  {
   "cell_type": "code",
   "execution_count": 26,
   "metadata": {
    "scrolled": true,
    "tags": []
   },
   "outputs": [
    {
     "data": {
      "text/plain": [
       "11948    atlanta report written notebook paper elementa...\n",
       "5370     naming trump nigel farage britain marine le pe...\n",
       "1179     merkel say facebook google distort perception ...\n",
       "15032    germany somali muslim dont pay wabern hesse gr...\n",
       "13850    hillary clinton fbi real november surprise pep...\n",
       "                               ...                        \n",
       "13123    share facebook dont know fall one favorite sea...\n",
       "19648    berkeley student argues free speech put studen...\n",
       "9845     justice neil gorsuch seated supreme court unit...\n",
       "10799    leave reply bill still good morning im still r...\n",
       "2732     posted eddie toy r u store uk offering quiet h...\n",
       "Name: text, Length: 16608, dtype: object"
      ]
     },
     "execution_count": 26,
     "metadata": {},
     "output_type": "execute_result"
    }
   ],
   "source": [
    "X_train"
   ]
  },
  {
   "cell_type": "code",
   "execution_count": 27,
   "metadata": {
    "tags": []
   },
   "outputs": [
    {
     "data": {
      "text/plain": [
       "(16608,)"
      ]
     },
     "execution_count": 27,
     "metadata": {},
     "output_type": "execute_result"
    }
   ],
   "source": [
    "X_train.shape"
   ]
  },
  {
   "cell_type": "code",
   "execution_count": 28,
   "metadata": {
    "tags": []
   },
   "outputs": [
    {
     "data": {
      "text/plain": [
       "11948    0\n",
       "5370     1\n",
       "1179     1\n",
       "15032    1\n",
       "13850    1\n",
       "        ..\n",
       "13123    1\n",
       "19648    0\n",
       "9845     0\n",
       "10799    1\n",
       "2732     1\n",
       "Name: label, Length: 16608, dtype: int64"
      ]
     },
     "execution_count": 28,
     "metadata": {},
     "output_type": "execute_result"
    }
   ],
   "source": [
    "Y_train"
   ]
  },
  {
   "cell_type": "raw",
   "metadata": {},
   "source": []
  },
  {
   "cell_type": "markdown",
   "metadata": {},
   "source": [
    "**CONVERTING THE TEXTUAL DATA TO NUMERICAL DATA**\n",
    "\n",
    "converting to textual data into numerical data/feature vector\n",
    "\n",
    "1)**tf (term freequency)**:-which counts the number of time a perticular words is repearting in a documents.\n",
    "\n",
    "2)**idf (inverse document freequency)**:-Measure the word is a rare word or common word in a document"
   ]
  },
  {
   "cell_type": "code",
   "execution_count": 29,
   "metadata": {
    "tags": []
   },
   "outputs": [],
   "source": [
    "#converting to textual data into numerical data/feature vector\n",
    "\n",
    "tfidf_v = TfidfVectorizer()\n",
    "tfidf_X_train = tfidf_v.fit_transform(X_train)\n",
    "tfidf_X_test = tfidf_v.transform(X_test)"
   ]
  },
  {
   "cell_type": "code",
   "execution_count": 30,
   "metadata": {
    "tags": []
   },
   "outputs": [
    {
     "name": "stdout",
     "output_type": "stream",
     "text": [
      "  (0, 35432)\t0.02434414318862491\n",
      "  (0, 24691)\t0.018716701868941005\n",
      "  (0, 55517)\t0.047139515711581106\n",
      "  (0, 84179)\t0.049927296086982695\n",
      "  (0, 122591)\t0.030536816910367304\n",
      "  (0, 97490)\t0.046316491936235875\n",
      "  (0, 34353)\t0.04432412776392161\n",
      "  (0, 64655)\t0.02920338022885307\n",
      "  (0, 48521)\t0.02617255051508571\n",
      "  (0, 26729)\t0.03585329443623728\n",
      "  (0, 143706)\t0.01075010566703517\n",
      "  (0, 6643)\t0.03660140894776423\n",
      "  (0, 37070)\t0.03786588551009282\n",
      "  (0, 30322)\t0.023121683533403856\n",
      "  (0, 42593)\t0.019943857478103705\n",
      "  (0, 21881)\t0.019835642218410002\n",
      "  (0, 24894)\t0.03772095397686807\n",
      "  (0, 67132)\t0.01889565149775918\n",
      "  (0, 128821)\t0.034133740548852654\n",
      "  (0, 101331)\t0.024321341739502077\n",
      "  (0, 57704)\t0.03441278398911631\n",
      "  (0, 105094)\t0.01733730161490273\n",
      "  (0, 109596)\t0.027106846258912746\n",
      "  (0, 36757)\t0.025460546184162047\n",
      "  (0, 3157)\t0.03544776294486961\n",
      "  :\t:\n",
      "  (16607, 13693)\t0.025726913680138172\n",
      "  (16607, 77368)\t0.019134230195348306\n",
      "  (16607, 32721)\t0.04534606258782239\n",
      "  (16607, 38225)\t0.025430037331321476\n",
      "  (16607, 28522)\t0.03507406678706818\n",
      "  (16607, 121843)\t0.02788651619751058\n",
      "  (16607, 135744)\t0.020794414745259622\n",
      "  (16607, 110628)\t0.01949261332650729\n",
      "  (16607, 123445)\t0.01588476680754434\n",
      "  (16607, 100876)\t0.03074470375472414\n",
      "  (16607, 4172)\t0.014899980400641149\n",
      "  (16607, 65414)\t0.023741862647533966\n",
      "  (16607, 133977)\t0.017564774498530788\n",
      "  (16607, 130588)\t0.014811766763545642\n",
      "  (16607, 69789)\t0.18425156916921778\n",
      "  (16607, 95563)\t0.06822872320639144\n",
      "  (16607, 114304)\t0.018045622865288855\n",
      "  (16607, 78601)\t0.034525086447798885\n",
      "  (16607, 30406)\t0.01772881863493966\n",
      "  (16607, 96930)\t0.014859871460438014\n",
      "  (16607, 77869)\t0.03626924469474981\n",
      "  (16607, 2728)\t0.05458929733279467\n",
      "  (16607, 51952)\t0.020452194759595296\n",
      "  (16607, 74820)\t0.01597818069009001\n",
      "  (16607, 21899)\t0.05193617045610723   (0, 145280)\t0.01844485042315303\n",
      "  (0, 144977)\t0.015457223015016446\n",
      "  (0, 144768)\t0.01911901451687839\n",
      "  (0, 143706)\t0.028060172274612872\n",
      "  (0, 143638)\t0.024905915684327463\n",
      "  (0, 143556)\t0.01244170261947782\n",
      "  (0, 143502)\t0.019148889523576598\n",
      "  (0, 143491)\t0.013092368332658798\n",
      "  (0, 143287)\t0.04511429878308437\n",
      "  (0, 142833)\t0.023637874719774573\n",
      "  (0, 142711)\t0.0181873427306572\n",
      "  (0, 142467)\t0.04091638686359329\n",
      "  (0, 141751)\t0.07891909883724228\n",
      "  (0, 141250)\t0.025515809871510045\n",
      "  (0, 141111)\t0.02754047462384038\n",
      "  (0, 140999)\t0.011672969609599109\n",
      "  (0, 140517)\t0.05100841770153681\n",
      "  (0, 140096)\t0.2322877037524493\n",
      "  (0, 139880)\t0.01863696975472698\n",
      "  (0, 139865)\t0.02266196492783703\n",
      "  (0, 139853)\t0.18401013974608527\n",
      "  (0, 139704)\t0.05170769876148053\n",
      "  (0, 139298)\t0.021476785329047655\n",
      "  (0, 139014)\t0.02642011645012094\n",
      "  (0, 138932)\t0.057786029065867724\n",
      "  :\t:\n",
      "  (4152, 8924)\t0.037011585724563166\n",
      "  (4152, 8761)\t0.02828462364268078\n",
      "  (4152, 8756)\t0.022822956743646816\n",
      "  (4152, 8143)\t0.022419554822284568\n",
      "  (4152, 7584)\t0.034555783254848794\n",
      "  (4152, 7256)\t0.014504307113532226\n",
      "  (4152, 6861)\t0.021646419786942015\n",
      "  (4152, 6723)\t0.020167601069851434\n",
      "  (4152, 6423)\t0.015717461588625557\n",
      "  (4152, 5704)\t0.02216797675771289\n",
      "  (4152, 5339)\t0.02031535015990535\n",
      "  (4152, 4981)\t0.053060551970949436\n",
      "  (4152, 4496)\t0.02325008939253594\n",
      "  (4152, 4357)\t0.014138429673440193\n",
      "  (4152, 4283)\t0.027093374035522474\n",
      "  (4152, 4172)\t0.007968268899023107\n",
      "  (4152, 4104)\t0.012999062669874247\n",
      "  (4152, 2965)\t0.027791675166202384\n",
      "  (4152, 2608)\t0.016621559196629835\n",
      "  (4152, 2316)\t0.027321412897930022\n",
      "  (4152, 1673)\t0.031101369027688078\n",
      "  (4152, 1395)\t0.017414819628334285\n",
      "  (4152, 1373)\t0.012804818096539378\n",
      "  (4152, 1220)\t0.0428899093046609\n",
      "  (4152, 1073)\t0.0341489621669655\n"
     ]
    }
   ],
   "source": [
    "print(tfidf_X_train,tfidf_X_test)"
   ]
  },
  {
   "cell_type": "code",
   "execution_count": 31,
   "metadata": {
    "tags": []
   },
   "outputs": [
    {
     "data": {
      "text/plain": [
       "(16608, 146627)"
      ]
     },
     "execution_count": 31,
     "metadata": {},
     "output_type": "execute_result"
    }
   ],
   "source": [
    "tfidf_X_train.shape"
   ]
  },
  {
   "cell_type": "code",
   "execution_count": 32,
   "metadata": {
    "tags": []
   },
   "outputs": [],
   "source": [
    "def plot_confusion_matrix(cm, classes,\n",
    "                          normalize=False,\n",
    "                          title='Confusion matrix',\n",
    "                          cmap=plt.cm.Blues):\n",
    "    \n",
    "    plt.imshow(cm, interpolation='nearest', cmap=cmap)\n",
    "    plt.title(title)\n",
    "    plt.colorbar()\n",
    "    tick_marks = np.arange(len(classes))\n",
    "    plt.xticks(tick_marks, classes, rotation=45)\n",
    "    plt.yticks(tick_marks, classes)\n",
    "\n",
    "    if normalize:\n",
    "        cm = cm.astype('float') / cm.sum(axis=1)[:, np.newaxis]\n",
    "        print(\"Normalized confusion matrix\")\n",
    "    else:\n",
    "        print('Confusion matrix, without normalization')\n",
    "\n",
    "    thresh = cm.max() / 2.\n",
    "    for i, j in itertools.product(range(cm.shape[0]), range(cm.shape[1])):\n",
    "        plt.text(j, i, cm[i, j],\n",
    "                 horizontalalignment=\"center\",\n",
    "                 color=\"white\" if cm[i, j] > thresh else \"black\")\n",
    "\n",
    "    plt.tight_layout()\n",
    "    plt.ylabel('True label')\n",
    "    plt.xlabel('Predicted label')"
   ]
  },
  {
   "cell_type": "markdown",
   "metadata": {},
   "source": [
    "**CLASSIFICATION MODEL:-PASSIVE AGGRESSIVE CLASSIFIER**\n",
    "\n",
    "Passive: if correct classification, keep the model; Aggressive: if incorrect classification, update to adjust to this misclassified example.\n",
    "\n",
    "Passive-Aggressive algorithms are generally used for large-scale learning. It is one of the few 'online-learning algorithmns. In online machine learning algorithms, the input data comes in sequential order and the machine learning model is updated step-by-step, as opposed to batch learning, where the entire training dataset is used at once. This is very useful in situations where there is a huge amount of data and it is computationally infeasible to train the entire dataset because of the sheer size of the data. We can simply say that an online-leaming algorithm will get a training example, update the classifier, and then throw away the example."
   ]
  },
  {
   "cell_type": "code",
   "execution_count": 33,
   "metadata": {
    "tags": []
   },
   "outputs": [
    {
     "data": {
      "text/html": [
       "<style>#sk-container-id-1 {color: black;background-color: white;}#sk-container-id-1 pre{padding: 0;}#sk-container-id-1 div.sk-toggleable {background-color: white;}#sk-container-id-1 label.sk-toggleable__label {cursor: pointer;display: block;width: 100%;margin-bottom: 0;padding: 0.3em;box-sizing: border-box;text-align: center;}#sk-container-id-1 label.sk-toggleable__label-arrow:before {content: \"▸\";float: left;margin-right: 0.25em;color: #696969;}#sk-container-id-1 label.sk-toggleable__label-arrow:hover:before {color: black;}#sk-container-id-1 div.sk-estimator:hover label.sk-toggleable__label-arrow:before {color: black;}#sk-container-id-1 div.sk-toggleable__content {max-height: 0;max-width: 0;overflow: hidden;text-align: left;background-color: #f0f8ff;}#sk-container-id-1 div.sk-toggleable__content pre {margin: 0.2em;color: black;border-radius: 0.25em;background-color: #f0f8ff;}#sk-container-id-1 input.sk-toggleable__control:checked~div.sk-toggleable__content {max-height: 200px;max-width: 100%;overflow: auto;}#sk-container-id-1 input.sk-toggleable__control:checked~label.sk-toggleable__label-arrow:before {content: \"▾\";}#sk-container-id-1 div.sk-estimator input.sk-toggleable__control:checked~label.sk-toggleable__label {background-color: #d4ebff;}#sk-container-id-1 div.sk-label input.sk-toggleable__control:checked~label.sk-toggleable__label {background-color: #d4ebff;}#sk-container-id-1 input.sk-hidden--visually {border: 0;clip: rect(1px 1px 1px 1px);clip: rect(1px, 1px, 1px, 1px);height: 1px;margin: -1px;overflow: hidden;padding: 0;position: absolute;width: 1px;}#sk-container-id-1 div.sk-estimator {font-family: monospace;background-color: #f0f8ff;border: 1px dotted black;border-radius: 0.25em;box-sizing: border-box;margin-bottom: 0.5em;}#sk-container-id-1 div.sk-estimator:hover {background-color: #d4ebff;}#sk-container-id-1 div.sk-parallel-item::after {content: \"\";width: 100%;border-bottom: 1px solid gray;flex-grow: 1;}#sk-container-id-1 div.sk-label:hover label.sk-toggleable__label {background-color: #d4ebff;}#sk-container-id-1 div.sk-serial::before {content: \"\";position: absolute;border-left: 1px solid gray;box-sizing: border-box;top: 0;bottom: 0;left: 50%;z-index: 0;}#sk-container-id-1 div.sk-serial {display: flex;flex-direction: column;align-items: center;background-color: white;padding-right: 0.2em;padding-left: 0.2em;position: relative;}#sk-container-id-1 div.sk-item {position: relative;z-index: 1;}#sk-container-id-1 div.sk-parallel {display: flex;align-items: stretch;justify-content: center;background-color: white;position: relative;}#sk-container-id-1 div.sk-item::before, #sk-container-id-1 div.sk-parallel-item::before {content: \"\";position: absolute;border-left: 1px solid gray;box-sizing: border-box;top: 0;bottom: 0;left: 50%;z-index: -1;}#sk-container-id-1 div.sk-parallel-item {display: flex;flex-direction: column;z-index: 1;position: relative;background-color: white;}#sk-container-id-1 div.sk-parallel-item:first-child::after {align-self: flex-end;width: 50%;}#sk-container-id-1 div.sk-parallel-item:last-child::after {align-self: flex-start;width: 50%;}#sk-container-id-1 div.sk-parallel-item:only-child::after {width: 0;}#sk-container-id-1 div.sk-dashed-wrapped {border: 1px dashed gray;margin: 0 0.4em 0.5em 0.4em;box-sizing: border-box;padding-bottom: 0.4em;background-color: white;}#sk-container-id-1 div.sk-label label {font-family: monospace;font-weight: bold;display: inline-block;line-height: 1.2em;}#sk-container-id-1 div.sk-label-container {text-align: center;}#sk-container-id-1 div.sk-container {/* jupyter's `normalize.less` sets `[hidden] { display: none; }` but bootstrap.min.css set `[hidden] { display: none !important; }` so we also need the `!important` here to be able to override the default hidden behavior on the sphinx rendered scikit-learn.org. See: https://github.com/scikit-learn/scikit-learn/issues/21755 */display: inline-block !important;position: relative;}#sk-container-id-1 div.sk-text-repr-fallback {display: none;}</style><div id=\"sk-container-id-1\" class=\"sk-top-container\"><div class=\"sk-text-repr-fallback\"><pre>PassiveAggressiveClassifier()</pre><b>In a Jupyter environment, please rerun this cell to show the HTML representation or trust the notebook. <br />On GitHub, the HTML representation is unable to render, please try loading this page with nbviewer.org.</b></div><div class=\"sk-container\" hidden><div class=\"sk-item\"><div class=\"sk-estimator sk-toggleable\"><input class=\"sk-toggleable__control sk-hidden--visually\" id=\"sk-estimator-id-1\" type=\"checkbox\" checked><label for=\"sk-estimator-id-1\" class=\"sk-toggleable__label sk-toggleable__label-arrow\">PassiveAggressiveClassifier</label><div class=\"sk-toggleable__content\"><pre>PassiveAggressiveClassifier()</pre></div></div></div></div></div>"
      ],
      "text/plain": [
       "PassiveAggressiveClassifier()"
      ]
     },
     "execution_count": 33,
     "metadata": {},
     "output_type": "execute_result"
    }
   ],
   "source": [
    "#model and model training\n",
    "\n",
    "classifier = PassiveAggressiveClassifier()\n",
    "classifier.fit(tfidf_X_train,Y_train)"
   ]
  },
  {
   "cell_type": "markdown",
   "metadata": {},
   "source": [
    "**ACCURACY SCORE & CONFUSION MATRIX**"
   ]
  },
  {
   "cell_type": "code",
   "execution_count": 34,
   "metadata": {
    "tags": []
   },
   "outputs": [
    {
     "name": "stdout",
     "output_type": "stream",
     "text": [
      "Accuracy: 95.88%\n",
      "Confusion matrix, without normalization\n"
     ]
    },
    {
     "data": {
      "image/png": "[encoded data removed]",
      "text/plain": [
       "<Figure size 640x480 with 2 Axes>"
      ]
     },
     "metadata": {},
     "output_type": "display_data"
    }
   ],
   "source": [
    "#accuracy score on the test data\n",
    "Y_pred = classifier.predict(tfidf_X_test)\n",
    "score = metrics.accuracy_score(Y_test, Y_pred)\n",
    "print(f'Accuracy: {round(score*100,2)}%')\n",
    "cm = metrics.confusion_matrix(Y_test, Y_pred)\n",
    "plot_confusion_matrix(cm, classes=['FAKE Data', 'REAL Data'])"
   ]
  },
  {
   "cell_type": "markdown",
   "metadata": {},
   "source": [
    "**CLASSIFICATION REPORT**"
   ]
  },
  {
   "cell_type": "code",
   "execution_count": 35,
   "metadata": {
    "tags": []
   },
   "outputs": [
    {
     "name": "stdout",
     "output_type": "stream",
     "text": [
      "              precision    recall  f1-score   support\n",
      "\n",
      "           0       0.96      0.96      0.96      2104\n",
      "           1       0.96      0.96      0.96      2049\n",
      "\n",
      "    accuracy                           0.96      4153\n",
      "   macro avg       0.96      0.96      0.96      4153\n",
      "weighted avg       0.96      0.96      0.96      4153\n",
      "\n"
     ]
    }
   ],
   "source": [
    "print(classification_report(Y_test, Y_pred))"
   ]
  },
  {
   "cell_type": "markdown",
   "metadata": {},
   "source": []
  },
  {
   "cell_type": "markdown",
   "metadata": {},
   "source": [
    "**SAVING & LOADING MODEL**"
   ]
  },
  {
   "cell_type": "code",
   "execution_count": 36,
   "metadata": {
    "tags": []
   },
   "outputs": [],
   "source": [
    "#pickling the model into disk\n",
    "pickle.dump(classifier,open('./model.pkl', 'wb'))\n",
    "pickle.dump(tfidf_v,open('vector.pkl', 'wb'))"
   ]
  },
  {
   "cell_type": "code",
   "execution_count": 37,
   "metadata": {
    "tags": []
   },
   "outputs": [],
   "source": [
    "# load the model from disk\n",
    "loaded_model = pickle.load(open('./model.pkl', 'rb'))\n",
    "#vector_form = pickle.load(open('vector.pkl', 'rb'))"
   ]
  },
  {
   "cell_type": "markdown",
   "metadata": {},
   "source": [
    "**BUILDING A PREDICTIVE SYSTEM**"
   ]
  },
  {
   "cell_type": "code",
   "execution_count": 38,
   "metadata": {
    "tags": []
   },
   "outputs": [],
   "source": [
    "def fake_news_det(news):\n",
    "    review = news\n",
    "    review = re.sub(r'[^a-zA-Z\\s]', '', review)\n",
    "    review = review.lower()\n",
    "    review = nltk.word_tokenize(review)\n",
    "    corpus = []\n",
    "    for y in review :\n",
    "        if y not in stpwrds :\n",
    "            corpus.append(lemmatizer.lemmatize(y))     \n",
    "    input_data = [' '.join(corpus)]\n",
    "    vectorized_input_data = tfidf_v.transform(input_data)\n",
    "    prediction = loaded_model.predict(vectorized_input_data)\n",
    "    if prediction[0] == 1:\n",
    "        print(\"Prediction of the News :  Looking Fake⚠ News📰 \")\n",
    "    else:\n",
    "        print(\"Prediction of the News : Looking Real News📰 \")\n",
    "      "
   ]
  },
  {
   "cell_type": "code",
   "execution_count": 39,
   "metadata": {
    "tags": []
   },
   "outputs": [
    {
     "data": {
      "text/plain": [
       "9383     jerusalem mr president woman called waad qanna...\n",
       "1471     milo upcoming book dangerous jumped number one...\n",
       "4480     new delhi india rapidly worsening air pollutio...\n",
       "17543    nothing presidential dignified sense ruling cl...\n",
       "775      thursday republican senator ted cruz lindsey g...\n",
       "                               ...                        \n",
       "11562    cairo one egypt highest court overturned death...\n",
       "18758    bill congress could make harder worker keep em...\n",
       "19925    email rebutting justice department assertion g...\n",
       "16765    used need million become customer goldman sach...\n",
       "16236    washington conn television writer named amy va...\n",
       "Name: text, Length: 4153, dtype: object"
      ]
     },
     "execution_count": 39,
     "metadata": {},
     "output_type": "execute_result"
    }
   ],
   "source": [
    "X_test"
   ]
  },
  {
   "cell_type": "code",
   "execution_count": 49,
   "metadata": {
    "tags": []
   },
   "outputs": [
    {
     "data": {
      "text/plain": [
       "'washington conn television writer named amy vacationed mayflower grace inn built high hill true hollywood fashion m returned hometown los angeles brief visit spun star hollow charming new england small town resident troubadour star hollow would become setting gilmore girl cultishly popular dramedy ran seven season wb later cw last weekend fan woman many mother daughter descended rural town western connecticut population first gilmore girl fan fest come oklahoma minnesota far away brazil paid much per ticket see real star hollow meet actor play resident way wanted impossible experience waking life dream town built studio backlot star hollow instance would chilly pouring rain community green would become mud field would gazebo center town something washington depot one village within town conspicuously lack faced reality attendee cheerily persevered stood holding umbrella line stretched clear door hickory stick bookshop get signed copy cookbook eat like gilmore kristi carlson queued drove plaza get selfie character jackson jackson douglas gathered front stately town hall building three gilmore cast member made impromptu appearance step sing acoustic rendition lead show theme song brittany white schoolteacher drove two hour rhode island mother nancy carrying coffee mug made read luke reference greasy spoon diner run show resident heartthrob luke dane woman high met kirk another star hollow resident star hollow u brittany white said keep saying little food market like dooses market even hardware store washington supply company amazing sean gunn played kirk one actor crew member fly fan fest hosted cat adoption saturday belief lasting popularity gilmore girl went air nine year ago return next month new episode netflix due part community togetherness present star hollow mr gunn said idealized version way small town could function town lorelai gilmore single mom daughter rory walkable main street lined business manicured village square soda shop cozy inn decent public high school churchogogue christian jewish worshiper citizenry quirky literate engaged resident participate local government civic formula proved elusive fan sought version move amy videographer graphic designer life bay area spent week two year ago around connecticut including washington depot quest chronicled blog finding star hollow went christmastime thought would give good magical feel town blanketed snow m said adding place visited lacked crucial element noticed main street couple boutique wasnt diner could get burger said werent people walking around star hollow always see people walking around indeed theyre called extra vanessa marano another former cast member fan fest aware illusory quality star hollow whenever audition warner bros lot burbank calif set remains le intact look like small town m marano said know youre set there equipment everywhere washington depot strollable main street diner either since m stayed natural setting gathering gilmores festival dreamed jennie whitaker husband marcus fan series run public relation firm based austin tex frequently happens connecticut stuck traffic near hartford road trip past summer got wondering washington depot never honored claim fame back home m whitaker contacted town board selectman soon found sitting washington depot town hall meeting community leader many men never watched show many cult drawn one said dan sherr resident met whitakers supported idea head selectman mark lyon eventually gave whitakers approval festival others doubtful anyone would show also resident opposed festival altogether sold event hour m whitaker said people wanted something like long aware suddenly extra large production many town resident particularly savvier business owner threw festival jim kelly turned law firm office serve medium hub cast green room liz page offered free homemade chili cornbread outside gift shop newbury place thanks resemblance luke m page brawny husband alan found wildly popular manned slow cooker jay comb owner washington supply company set formica table place setting transformed corner hardware store luke diner day shop owner greeted lorelais rorys borrowing smartphones trudging outside rain snap souvenir picture window fan nut crazy way mr comb said added im siege speak wife like many town resident watching gilmore girl season year rory graduate high school throughout day mr comb hear rumbling fan disappointed washington depot look like star hollow theory circulated m taken aspect several nearby town gazebo new milford main street kent frankensteined mythic community likely truth m attend festival already discovered road trip wholesome tv show though end learned lesson told way visit star hollow m said play episode gilmore girl'"
      ]
     },
     "execution_count": 49,
     "metadata": {},
     "output_type": "execute_result"
    }
   ],
   "source": [
    "X_test[16236]"
   ]
  },
  {
   "cell_type": "code",
   "execution_count": 48,
   "metadata": {
    "tags": []
   },
   "outputs": [
    {
     "data": {
      "text/plain": [
       "0"
      ]
     },
     "execution_count": 48,
     "metadata": {},
     "output_type": "execute_result"
    }
   ],
   "source": [
    "Y_test[16236]"
   ]
  },
  {
   "cell_type": "code",
   "execution_count": 54,
   "metadata": {
    "tags": []
   },
   "outputs": [
    {
     "name": "stdout",
     "output_type": "stream",
     "text": [
      "Enter the News: They are all \"Treasonous\" lying, narcissistical, sociopathic bastards!....When Trump say's they need to 'drain the swamp' or whatever?...he's not wrong, but who's going to have he's back when he's dredging the filth out of the swamp that is political Washington and all the corporate 'skid marks' along with the corrupt Bankster's and especially the FED reserve?....Who?.\n",
      "Prediction of the News :  Looking Fake⚠ News📰 \n"
     ]
    }
   ],
   "source": [
    "news=str(input(\"Enter the News:\"))\n",
    "fake_news_det(news)"
   ]
  },
  {
   "cell_type": "raw",
   "metadata": {},
   "source": []
  },
  {
   "cell_type": "markdown",
   "metadata": {},
   "source": [
    "**MANUAL PREDICTION**"
   ]
  },
  {
   "cell_type": "code",
   "execution_count": 43,
   "metadata": {
    "tags": []
   },
   "outputs": [
    {
     "name": "stdout",
     "output_type": "stream",
     "text": [
      "  (0, 145280)\t0.01844485042315303\n",
      "  (0, 144977)\t0.015457223015016446\n",
      "  (0, 144768)\t0.01911901451687839\n",
      "  (0, 143706)\t0.028060172274612872\n",
      "  (0, 143638)\t0.024905915684327463\n",
      "  (0, 143556)\t0.01244170261947782\n",
      "  (0, 143502)\t0.019148889523576598\n",
      "  (0, 143491)\t0.013092368332658798\n",
      "  (0, 143287)\t0.04511429878308437\n",
      "  (0, 142833)\t0.023637874719774573\n",
      "  (0, 142711)\t0.0181873427306572\n",
      "  (0, 142467)\t0.04091638686359329\n",
      "  (0, 141751)\t0.07891909883724228\n",
      "  (0, 141250)\t0.025515809871510045\n",
      "  (0, 141111)\t0.02754047462384038\n",
      "  (0, 140999)\t0.011672969609599109\n",
      "  (0, 140517)\t0.05100841770153681\n",
      "  (0, 140096)\t0.2322877037524493\n",
      "  (0, 139880)\t0.01863696975472698\n",
      "  (0, 139865)\t0.02266196492783703\n",
      "  (0, 139853)\t0.18401013974608527\n",
      "  (0, 139704)\t0.05170769876148053\n",
      "  (0, 139298)\t0.021476785329047655\n",
      "  (0, 139014)\t0.02642011645012094\n",
      "  (0, 138932)\t0.057786029065867724\n",
      "  :\t:\n",
      "  (4152, 8924)\t0.037011585724563166\n",
      "  (4152, 8761)\t0.02828462364268078\n",
      "  (4152, 8756)\t0.022822956743646816\n",
      "  (4152, 8143)\t0.022419554822284568\n",
      "  (4152, 7584)\t0.034555783254848794\n",
      "  (4152, 7256)\t0.014504307113532226\n",
      "  (4152, 6861)\t0.021646419786942015\n",
      "  (4152, 6723)\t0.020167601069851434\n",
      "  (4152, 6423)\t0.015717461588625557\n",
      "  (4152, 5704)\t0.02216797675771289\n",
      "  (4152, 5339)\t0.02031535015990535\n",
      "  (4152, 4981)\t0.053060551970949436\n",
      "  (4152, 4496)\t0.02325008939253594\n",
      "  (4152, 4357)\t0.014138429673440193\n",
      "  (4152, 4283)\t0.027093374035522474\n",
      "  (4152, 4172)\t0.007968268899023107\n",
      "  (4152, 4104)\t0.012999062669874247\n",
      "  (4152, 2965)\t0.027791675166202384\n",
      "  (4152, 2608)\t0.016621559196629835\n",
      "  (4152, 2316)\t0.027321412897930022\n",
      "  (4152, 1673)\t0.031101369027688078\n",
      "  (4152, 1395)\t0.017414819628334285\n",
      "  (4152, 1373)\t0.012804818096539378\n",
      "  (4152, 1220)\t0.0428899093046609\n",
      "  (4152, 1073)\t0.0341489621669655\n"
     ]
    }
   ],
   "source": [
    "print(tfidf_X_test)"
   ]
  },
  {
   "cell_type": "code",
   "execution_count": 44,
   "metadata": {
    "tags": []
   },
   "outputs": [
    {
     "name": "stdout",
     "output_type": "stream",
     "text": [
      "9383     0\n",
      "1471     0\n",
      "4480     0\n",
      "17543    1\n",
      "775      0\n",
      "        ..\n",
      "11562    0\n",
      "18758    0\n",
      "19925    1\n",
      "16765    0\n",
      "16236    0\n",
      "Name: label, Length: 4153, dtype: int64\n"
     ]
    }
   ],
   "source": [
    "print(Y_test)"
   ]
  },
  {
   "cell_type": "code",
   "execution_count": 45,
   "metadata": {
    "tags": []
   },
   "outputs": [
    {
     "name": "stdout",
     "output_type": "stream",
     "text": [
      "Prediction of the News :  Looking Fake⚠ News📰 \n"
     ]
    }
   ],
   "source": [
    "X_new=tfidf_X_test[3]\n",
    "prediction = loaded_model.predict(X_new)\n",
    "\n",
    "if (prediction[0] == 1):\n",
    "\tprint(\"Prediction of the News :  Looking Fake⚠ News📰 \")\n",
    "else:\n",
    "\tprint(\"Prediction of the News : Looking Real News📰 \")"
   ]
  },
  {
   "cell_type": "code",
   "execution_count": 46,
   "metadata": {
    "tags": []
   },
   "outputs": [
    {
     "name": "stdout",
     "output_type": "stream",
     "text": [
      "1\n"
     ]
    }
   ],
   "source": [
    "print(Y_test[17543])"
   ]
  },
  {
   "cell_type": "code",
   "execution_count": null,
   "metadata": {},
   "outputs": [],
   "source": []
  }
 ],
 "metadata": {
  "kernelspec": {
   "display_name": "Python 3 (ipykernel)",
   "language": "python",
   "name": "python3"
  },
  "language_info": {
   "codemirror_mode": {
    "name": "ipython",
    "version": 3
   },
   "file_extension": ".py",
   "mimetype": "text/x-python",
   "name": "python",
   "nbconvert_exporter": "python",
   "pygments_lexer": "ipython3",
   "version": "3.11.2"
  }
 },
 "nbformat": 4,
 "nbformat_minor": 4
}
